{
 "cells": [
  {
   "cell_type": "markdown",
   "metadata": {},
   "source": [
    "Your tasks are as follows:\n",
    "\n",
    "1.\t**Build a regression model using Python’s statsmodels module that demonstrates a relationship between the number of bikes in a particular location and the characteristics of the POIs in that location.**\n",
    "2.\tInterpret results. Expand on the model output, and derive insights from your model.\n",
    "3.\tStretch: can you think of a way to turn the above regression problem into a **classification** one? Without coding, can you sketch out how you would cast the problem specifically, and lay out your approaches?\n",
    "\n",
    "Complete the model_building.ipynb notebook to demonstrate how you executed the tasks above.\n"
   ]
  },
  {
   "cell_type": "code",
   "execution_count": 1,
   "metadata": {},
   "outputs": [],
   "source": [
    "import statsmodels.api        as sm\n",
    "import statsmodels.formula.api as smf\n",
    "import pandas as pd\n",
    "import numpy as np\n",
    "import matplotlib.pyplot as plt\n",
    "import seaborn as sns\n",
    "\n",
    "import warnings\n",
    "warnings.filterwarnings('ignore')"
   ]
  },
  {
   "cell_type": "markdown",
   "metadata": {},
   "source": [
    "# Build a regression model\n",
    "**Target variable: Number_Of_Bikes**\n",
    "\n",
    "Actually, Number_Of_Bikes is not really a continuous data, but we can see it as numerical data or categorical data (13 classes)\n",
    "\n",
    "Below, I will try to treat it as continuous data to build a regression model."
   ]
  },
  {
   "cell_type": "code",
   "execution_count": 2,
   "metadata": {},
   "outputs": [
    {
     "data": {
      "text/html": [
       "<div>\n",
       "<style scoped>\n",
       "    .dataframe tbody tr th:only-of-type {\n",
       "        vertical-align: middle;\n",
       "    }\n",
       "\n",
       "    .dataframe tbody tr th {\n",
       "        vertical-align: top;\n",
       "    }\n",
       "\n",
       "    .dataframe thead th {\n",
       "        text-align: right;\n",
       "    }\n",
       "</style>\n",
       "<table border=\"1\" class=\"dataframe\">\n",
       "  <thead>\n",
       "    <tr style=\"text-align: right;\">\n",
       "      <th></th>\n",
       "      <th>Name_Station</th>\n",
       "      <th>Latitude_Station</th>\n",
       "      <th>Longitude_Station</th>\n",
       "      <th>Number_Of_Bikes</th>\n",
       "      <th>Venue_Name</th>\n",
       "      <th>Venue_Address</th>\n",
       "      <th>Venue_Distance</th>\n",
       "      <th>Venue_Phone</th>\n",
       "      <th>Venue_Rating</th>\n",
       "      <th>Venue_Price</th>\n",
       "      <th>Venue_Review_Count</th>\n",
       "      <th>Venue_URL</th>\n",
       "      <th>Venue_Subcategory</th>\n",
       "      <th>Venue_Category</th>\n",
       "    </tr>\n",
       "  </thead>\n",
       "  <tbody>\n",
       "    <tr>\n",
       "      <th>0</th>\n",
       "      <td>Icon Pkg: E 52 St, 1st Ave &amp; 2nd Ave</td>\n",
       "      <td>40.755226</td>\n",
       "      <td>-73.965826</td>\n",
       "      <td>16</td>\n",
       "      <td>Village Crown Kosher Catering</td>\n",
       "      <td>1</td>\n",
       "      <td>401.379171</td>\n",
       "      <td>1</td>\n",
       "      <td>4.9</td>\n",
       "      <td>2</td>\n",
       "      <td>9</td>\n",
       "      <td>1.0</td>\n",
       "      <td>Caterers</td>\n",
       "      <td>restaurant</td>\n",
       "    </tr>\n",
       "    <tr>\n",
       "      <th>1</th>\n",
       "      <td>Icon Pkg: E 52 St, 1st Ave &amp; 2nd Ave</td>\n",
       "      <td>40.755226</td>\n",
       "      <td>-73.965826</td>\n",
       "      <td>16</td>\n",
       "      <td>Charoen Krung</td>\n",
       "      <td>1</td>\n",
       "      <td>227.252387</td>\n",
       "      <td>1</td>\n",
       "      <td>4.8</td>\n",
       "      <td>2</td>\n",
       "      <td>121</td>\n",
       "      <td>1.0</td>\n",
       "      <td>Thai</td>\n",
       "      <td>restaurant</td>\n",
       "    </tr>\n",
       "    <tr>\n",
       "      <th>2</th>\n",
       "      <td>Icon Pkg: E 52 St, 1st Ave &amp; 2nd Ave</td>\n",
       "      <td>40.755226</td>\n",
       "      <td>-73.965826</td>\n",
       "      <td>16</td>\n",
       "      <td>Quick Stop</td>\n",
       "      <td>1</td>\n",
       "      <td>672.822715</td>\n",
       "      <td>1</td>\n",
       "      <td>4.8</td>\n",
       "      <td>1</td>\n",
       "      <td>9</td>\n",
       "      <td>1.0</td>\n",
       "      <td>Coffee &amp; Tea</td>\n",
       "      <td>restaurant</td>\n",
       "    </tr>\n",
       "    <tr>\n",
       "      <th>3</th>\n",
       "      <td>Icon Pkg: E 52 St, 1st Ave &amp; 2nd Ave</td>\n",
       "      <td>40.755226</td>\n",
       "      <td>-73.965826</td>\n",
       "      <td>16</td>\n",
       "      <td>Kati Shop</td>\n",
       "      <td>1</td>\n",
       "      <td>495.560320</td>\n",
       "      <td>1</td>\n",
       "      <td>4.7</td>\n",
       "      <td>2</td>\n",
       "      <td>212</td>\n",
       "      <td>1.0</td>\n",
       "      <td>Thai</td>\n",
       "      <td>restaurant</td>\n",
       "    </tr>\n",
       "    <tr>\n",
       "      <th>4</th>\n",
       "      <td>Icon Pkg: E 52 St, 1st Ave &amp; 2nd Ave</td>\n",
       "      <td>40.755226</td>\n",
       "      <td>-73.965826</td>\n",
       "      <td>16</td>\n",
       "      <td>Tony's Coffee Cart</td>\n",
       "      <td>1</td>\n",
       "      <td>732.206967</td>\n",
       "      <td>0</td>\n",
       "      <td>4.7</td>\n",
       "      <td>1</td>\n",
       "      <td>7</td>\n",
       "      <td>0.0</td>\n",
       "      <td>Coffee &amp; Tea</td>\n",
       "      <td>restaurant</td>\n",
       "    </tr>\n",
       "  </tbody>\n",
       "</table>\n",
       "</div>"
      ],
      "text/plain": [
       "                           Name_Station  Latitude_Station  Longitude_Station  \\\n",
       "0  Icon Pkg: E 52 St, 1st Ave & 2nd Ave         40.755226         -73.965826   \n",
       "1  Icon Pkg: E 52 St, 1st Ave & 2nd Ave         40.755226         -73.965826   \n",
       "2  Icon Pkg: E 52 St, 1st Ave & 2nd Ave         40.755226         -73.965826   \n",
       "3  Icon Pkg: E 52 St, 1st Ave & 2nd Ave         40.755226         -73.965826   \n",
       "4  Icon Pkg: E 52 St, 1st Ave & 2nd Ave         40.755226         -73.965826   \n",
       "\n",
       "   Number_Of_Bikes                     Venue_Name  Venue_Address  \\\n",
       "0               16  Village Crown Kosher Catering              1   \n",
       "1               16                  Charoen Krung              1   \n",
       "2               16                     Quick Stop              1   \n",
       "3               16                      Kati Shop              1   \n",
       "4               16             Tony's Coffee Cart              1   \n",
       "\n",
       "   Venue_Distance  Venue_Phone  Venue_Rating  Venue_Price  Venue_Review_Count  \\\n",
       "0      401.379171            1           4.9            2                   9   \n",
       "1      227.252387            1           4.8            2                 121   \n",
       "2      672.822715            1           4.8            1                   9   \n",
       "3      495.560320            1           4.7            2                 212   \n",
       "4      732.206967            0           4.7            1                   7   \n",
       "\n",
       "   Venue_URL Venue_Subcategory Venue_Category  \n",
       "0        1.0          Caterers     restaurant  \n",
       "1        1.0              Thai     restaurant  \n",
       "2        1.0      Coffee & Tea     restaurant  \n",
       "3        1.0              Thai     restaurant  \n",
       "4        0.0      Coffee & Tea     restaurant  "
      ]
     },
     "execution_count": 2,
     "metadata": {},
     "output_type": "execute_result"
    }
   ],
   "source": [
    "# Load data\n",
    "df = pd.read_csv('../data/bikeproject_Part3.csv')\n",
    "df.head()"
   ]
  },
  {
   "cell_type": "code",
   "execution_count": 3,
   "metadata": {},
   "outputs": [
    {
     "data": {
      "text/plain": [
       "(5152, 14)"
      ]
     },
     "execution_count": 3,
     "metadata": {},
     "output_type": "execute_result"
    }
   ],
   "source": [
    "df.shape"
   ]
  },
  {
   "cell_type": "code",
   "execution_count": 4,
   "metadata": {},
   "outputs": [
    {
     "name": "stdout",
     "output_type": "stream",
     "text": [
      "<class 'pandas.core.frame.DataFrame'>\n",
      "RangeIndex: 5152 entries, 0 to 5151\n",
      "Data columns (total 14 columns):\n",
      " #   Column              Non-Null Count  Dtype  \n",
      "---  ------              --------------  -----  \n",
      " 0   Name_Station        5152 non-null   object \n",
      " 1   Latitude_Station    5152 non-null   float64\n",
      " 2   Longitude_Station   5152 non-null   float64\n",
      " 3   Number_Of_Bikes     5152 non-null   int64  \n",
      " 4   Venue_Name          5152 non-null   object \n",
      " 5   Venue_Address       5152 non-null   int64  \n",
      " 6   Venue_Distance      5152 non-null   float64\n",
      " 7   Venue_Phone         5152 non-null   int64  \n",
      " 8   Venue_Rating        5152 non-null   float64\n",
      " 9   Venue_Price         5152 non-null   int64  \n",
      " 10  Venue_Review_Count  5152 non-null   int64  \n",
      " 11  Venue_URL           5152 non-null   float64\n",
      " 12  Venue_Subcategory   5152 non-null   object \n",
      " 13  Venue_Category      5152 non-null   object \n",
      "dtypes: float64(5), int64(5), object(4)\n",
      "memory usage: 563.6+ KB\n"
     ]
    }
   ],
   "source": [
    "df.info()"
   ]
  },
  {
   "cell_type": "markdown",
   "metadata": {},
   "source": [
    "* Even though `Venue_Address`,`Venue_Phone`, `Venue_Price`, `Venue_URL` columns have values 0/1... (integer), they visually present numeric, but theirs essence is categorical data type."
   ]
  },
  {
   "cell_type": "markdown",
   "metadata": {},
   "source": [
    "* For the purpose of statistical modelling, I'm going to drop columns that are not significantly meaning for modelling."
   ]
  },
  {
   "cell_type": "code",
   "execution_count": 5,
   "metadata": {},
   "outputs": [
    {
     "data": {
      "text/plain": [
       "(5152, 12)"
      ]
     },
     "execution_count": 5,
     "metadata": {},
     "output_type": "execute_result"
    }
   ],
   "source": [
    "# drop unneccessay columns for modelling \n",
    "df = df.drop(['Name_Station','Venue_Name'], axis=1)\n",
    "df.shape"
   ]
  },
  {
   "cell_type": "code",
   "execution_count": 6,
   "metadata": {},
   "outputs": [
    {
     "data": {
      "text/plain": [
       "Latitude_Station        37\n",
       "Longitude_Station       37\n",
       "Number_Of_Bikes         13\n",
       "Venue_Address            2\n",
       "Venue_Distance        4672\n",
       "Venue_Phone              2\n",
       "Venue_Rating            37\n",
       "Venue_Price              5\n",
       "Venue_Review_Count     539\n",
       "Venue_URL                2\n",
       "Venue_Subcategory      215\n",
       "Venue_Category          13\n",
       "dtype: int64"
      ]
     },
     "execution_count": 6,
     "metadata": {},
     "output_type": "execute_result"
    }
   ],
   "source": [
    "df.nunique()"
   ]
  },
  {
   "cell_type": "code",
   "execution_count": 7,
   "metadata": {},
   "outputs": [
    {
     "data": {
      "text/plain": [
       "array(['restaurant', 'coffee', 'bar', 'hotel', 'shopping', 'supermarket',\n",
       "       'museum', 'hospital', 'stadium', 'cinema', 'bus', 'school', 'park'],\n",
       "      dtype=object)"
      ]
     },
     "execution_count": 7,
     "metadata": {},
     "output_type": "execute_result"
    }
   ],
   "source": [
    "df['Venue_Category'].unique()"
   ]
  },
  {
   "cell_type": "markdown",
   "metadata": {},
   "source": [
    "Due to regression model requires fearture's data can be converted to NUMERIC DATA.\n",
    "\n",
    "Therefore, in order to use the regression model, I need to continue address `Venue_Subcategory` and `Venue_Subcategory` columns (because its data is string that cannot be converted to numeric data). Due to Subcategory has too much classes, so I cannot map manually. I am going to use loop as follows:"
   ]
  },
  {
   "cell_type": "code",
   "execution_count": 8,
   "metadata": {},
   "outputs": [],
   "source": [
    "# Create a dictionary mapping between the category labels and the corresponding integer values\n",
    "mapping_subcategory = {subcategory:index  for index, subcategory in enumerate(df['Venue_Subcategory'].unique(), start=1)}\n",
    "mapping_category    = {category:index  for index, category in enumerate(df['Venue_Category'].unique(), start=1)}\n",
    "\n",
    "# Apply the mapping to the columns\n",
    "df['Venue_Category'] = df['Venue_Category'].map(mapping_category)\n",
    "df['Venue_Subcategory'] = df['Venue_Subcategory'].replace(mapping_subcategory)"
   ]
  },
  {
   "cell_type": "code",
   "execution_count": 9,
   "metadata": {},
   "outputs": [
    {
     "data": {
      "text/html": [
       "<div>\n",
       "<style scoped>\n",
       "    .dataframe tbody tr th:only-of-type {\n",
       "        vertical-align: middle;\n",
       "    }\n",
       "\n",
       "    .dataframe tbody tr th {\n",
       "        vertical-align: top;\n",
       "    }\n",
       "\n",
       "    .dataframe thead th {\n",
       "        text-align: right;\n",
       "    }\n",
       "</style>\n",
       "<table border=\"1\" class=\"dataframe\">\n",
       "  <thead>\n",
       "    <tr style=\"text-align: right;\">\n",
       "      <th></th>\n",
       "      <th>Latitude_Station</th>\n",
       "      <th>Longitude_Station</th>\n",
       "      <th>Number_Of_Bikes</th>\n",
       "      <th>Venue_Address</th>\n",
       "      <th>Venue_Distance</th>\n",
       "      <th>Venue_Phone</th>\n",
       "      <th>Venue_Rating</th>\n",
       "      <th>Venue_Price</th>\n",
       "      <th>Venue_Review_Count</th>\n",
       "      <th>Venue_URL</th>\n",
       "      <th>Venue_Subcategory</th>\n",
       "      <th>Venue_Category</th>\n",
       "    </tr>\n",
       "  </thead>\n",
       "  <tbody>\n",
       "    <tr>\n",
       "      <th>5147</th>\n",
       "      <td>40.733486</td>\n",
       "      <td>-73.989565</td>\n",
       "      <td>14</td>\n",
       "      <td>1</td>\n",
       "      <td>648.640472</td>\n",
       "      <td>1</td>\n",
       "      <td>4.2</td>\n",
       "      <td>2</td>\n",
       "      <td>61</td>\n",
       "      <td>1.0</td>\n",
       "      <td>151</td>\n",
       "      <td>12</td>\n",
       "    </tr>\n",
       "    <tr>\n",
       "      <th>5148</th>\n",
       "      <td>40.733486</td>\n",
       "      <td>-73.989565</td>\n",
       "      <td>14</td>\n",
       "      <td>1</td>\n",
       "      <td>372.101711</td>\n",
       "      <td>1</td>\n",
       "      <td>4.2</td>\n",
       "      <td>3</td>\n",
       "      <td>60</td>\n",
       "      <td>1.0</td>\n",
       "      <td>44</td>\n",
       "      <td>12</td>\n",
       "    </tr>\n",
       "    <tr>\n",
       "      <th>5149</th>\n",
       "      <td>40.733486</td>\n",
       "      <td>-73.989565</td>\n",
       "      <td>14</td>\n",
       "      <td>1</td>\n",
       "      <td>712.220500</td>\n",
       "      <td>1</td>\n",
       "      <td>4.6</td>\n",
       "      <td>2</td>\n",
       "      <td>51</td>\n",
       "      <td>1.0</td>\n",
       "      <td>191</td>\n",
       "      <td>8</td>\n",
       "    </tr>\n",
       "    <tr>\n",
       "      <th>5150</th>\n",
       "      <td>40.733486</td>\n",
       "      <td>-73.989565</td>\n",
       "      <td>14</td>\n",
       "      <td>1</td>\n",
       "      <td>530.179160</td>\n",
       "      <td>1</td>\n",
       "      <td>4.1</td>\n",
       "      <td>1</td>\n",
       "      <td>12</td>\n",
       "      <td>0.0</td>\n",
       "      <td>56</td>\n",
       "      <td>8</td>\n",
       "    </tr>\n",
       "    <tr>\n",
       "      <th>5151</th>\n",
       "      <td>40.733486</td>\n",
       "      <td>-73.989565</td>\n",
       "      <td>14</td>\n",
       "      <td>1</td>\n",
       "      <td>909.265159</td>\n",
       "      <td>1</td>\n",
       "      <td>3.6</td>\n",
       "      <td>2</td>\n",
       "      <td>232</td>\n",
       "      <td>1.0</td>\n",
       "      <td>110</td>\n",
       "      <td>8</td>\n",
       "    </tr>\n",
       "  </tbody>\n",
       "</table>\n",
       "</div>"
      ],
      "text/plain": [
       "      Latitude_Station  Longitude_Station  Number_Of_Bikes  Venue_Address  \\\n",
       "5147         40.733486         -73.989565               14              1   \n",
       "5148         40.733486         -73.989565               14              1   \n",
       "5149         40.733486         -73.989565               14              1   \n",
       "5150         40.733486         -73.989565               14              1   \n",
       "5151         40.733486         -73.989565               14              1   \n",
       "\n",
       "      Venue_Distance  Venue_Phone  Venue_Rating  Venue_Price  \\\n",
       "5147      648.640472            1           4.2            2   \n",
       "5148      372.101711            1           4.2            3   \n",
       "5149      712.220500            1           4.6            2   \n",
       "5150      530.179160            1           4.1            1   \n",
       "5151      909.265159            1           3.6            2   \n",
       "\n",
       "      Venue_Review_Count  Venue_URL  Venue_Subcategory  Venue_Category  \n",
       "5147                  61        1.0                151              12  \n",
       "5148                  60        1.0                 44              12  \n",
       "5149                  51        1.0                191               8  \n",
       "5150                  12        0.0                 56               8  \n",
       "5151                 232        1.0                110               8  "
      ]
     },
     "execution_count": 9,
     "metadata": {},
     "output_type": "execute_result"
    }
   ],
   "source": [
    "df.tail()"
   ]
  },
  {
   "cell_type": "code",
   "execution_count": 10,
   "metadata": {},
   "outputs": [
    {
     "name": "stdout",
     "output_type": "stream",
     "text": [
      "<class 'pandas.core.frame.DataFrame'>\n",
      "RangeIndex: 5152 entries, 0 to 5151\n",
      "Data columns (total 12 columns):\n",
      " #   Column              Non-Null Count  Dtype  \n",
      "---  ------              --------------  -----  \n",
      " 0   Latitude_Station    5152 non-null   float64\n",
      " 1   Longitude_Station   5152 non-null   float64\n",
      " 2   Number_Of_Bikes     5152 non-null   int64  \n",
      " 3   Venue_Address       5152 non-null   int64  \n",
      " 4   Venue_Distance      5152 non-null   float64\n",
      " 5   Venue_Phone         5152 non-null   int64  \n",
      " 6   Venue_Rating        5152 non-null   float64\n",
      " 7   Venue_Price         5152 non-null   int64  \n",
      " 8   Venue_Review_Count  5152 non-null   int64  \n",
      " 9   Venue_URL           5152 non-null   float64\n",
      " 10  Venue_Subcategory   5152 non-null   int64  \n",
      " 11  Venue_Category      5152 non-null   int64  \n",
      "dtypes: float64(5), int64(7)\n",
      "memory usage: 483.1 KB\n"
     ]
    }
   ],
   "source": [
    "df.info()"
   ]
  },
  {
   "cell_type": "markdown",
   "metadata": {},
   "source": [
    "### Define target variable and independent variables"
   ]
  },
  {
   "cell_type": "code",
   "execution_count": 11,
   "metadata": {},
   "outputs": [
    {
     "name": "stdout",
     "output_type": "stream",
     "text": [
      "(5152, 11)\n"
     ]
    },
    {
     "data": {
      "text/plain": [
       "Index(['Latitude_Station', 'Longitude_Station', 'Venue_Address',\n",
       "       'Venue_Distance', 'Venue_Phone', 'Venue_Rating', 'Venue_Price',\n",
       "       'Venue_Review_Count', 'Venue_URL', 'Venue_Subcategory',\n",
       "       'Venue_Category'],\n",
       "      dtype='object')"
      ]
     },
     "execution_count": 11,
     "metadata": {},
     "output_type": "execute_result"
    }
   ],
   "source": [
    "X = df[df.columns[~df.columns.isin(['Number_Of_Bikes'])]]  # inputs\n",
    "y = df['Number_Of_Bikes']                                  # output\n",
    "\n",
    "print(X.shape)\n",
    "X.columns"
   ]
  },
  {
   "cell_type": "markdown",
   "metadata": {},
   "source": [
    "### 1) Build a Multivariate Linear Regression with all current 11 independent variables\n",
    "targer variable is Number_Of_Bikes"
   ]
  },
  {
   "cell_type": "code",
   "execution_count": 12,
   "metadata": {},
   "outputs": [
    {
     "name": "stdout",
     "output_type": "stream",
     "text": [
      "                            OLS Regression Results                            \n",
      "==============================================================================\n",
      "Dep. Variable:        Number_Of_Bikes   R-squared:                       0.004\n",
      "Model:                            OLS   Adj. R-squared:                  0.002\n",
      "Method:                 Least Squares   F-statistic:                     1.750\n",
      "Date:                Thu, 11 Apr 2024   Prob (F-statistic):             0.0571\n",
      "Time:                        16:07:29   Log-Likelihood:                -16042.\n",
      "No. Observations:                5152   AIC:                         3.211e+04\n",
      "Df Residuals:                    5140   BIC:                         3.219e+04\n",
      "Df Model:                          11                                         \n",
      "Covariance Type:            nonrobust                                         \n",
      "======================================================================================\n",
      "                         coef    std err          t      P>|t|      [0.025      0.975]\n",
      "--------------------------------------------------------------------------------------\n",
      "const                514.1037    658.133      0.781      0.435    -776.117    1804.324\n",
      "Latitude_Station       4.5061      5.618      0.802      0.423      -6.507      15.519\n",
      "Longitude_Station      9.2405      6.377      1.449      0.147      -3.262      21.743\n",
      "Venue_Address         -0.8446      0.806     -1.047      0.295      -2.425       0.736\n",
      "Venue_Distance         0.0005      0.000      2.097      0.036    3.52e-05       0.001\n",
      "Venue_Phone           -0.1805      0.324     -0.557      0.578      -0.816       0.455\n",
      "Venue_Rating          -0.2246      0.146     -1.539      0.124      -0.511       0.062\n",
      "Venue_Price           -0.0566      0.101     -0.560      0.576      -0.255       0.142\n",
      "Venue_Review_Count     0.0001      0.000      0.519      0.604      -0.000       0.001\n",
      "Venue_URL              0.0661      0.244      0.270      0.787      -0.413       0.545\n",
      "Venue_Subcategory     -0.0010      0.002     -0.581      0.561      -0.004       0.002\n",
      "Venue_Category        -0.0017      0.033     -0.050      0.960      -0.067       0.064\n",
      "==============================================================================\n",
      "Omnibus:                     1123.038   Durbin-Watson:                   0.021\n",
      "Prob(Omnibus):                  0.000   Jarque-Bera (JB):             3122.877\n",
      "Skew:                           1.149   Prob(JB):                         0.00\n",
      "Kurtosis:                       6.044   Cond. No.                     6.93e+06\n",
      "==============================================================================\n",
      "\n",
      "Notes:\n",
      "[1] Standard Errors assume that the covariance matrix of the errors is correctly specified.\n",
      "[2] The condition number is large, 6.93e+06. This might indicate that there are\n",
      "strong multicollinearity or other numerical problems.\n"
     ]
    }
   ],
   "source": [
    "X1 = sm.add_constant(X) # adding a constant\n",
    "\n",
    "model = sm.OLS(y,X1)    # Create model\n",
    "result = model.fit()\n",
    "\n",
    "print(result.summary())       # See model result"
   ]
  },
  {
   "cell_type": "code",
   "execution_count": 13,
   "metadata": {},
   "outputs": [],
   "source": [
    "# result.pvalues\n",
    "# result.params   # coef\n",
    "# result.resid "
   ]
  },
  {
   "cell_type": "markdown",
   "metadata": {},
   "source": [
    "## Interpret of the result of model 1): \n",
    "1. The **p-value for most of the variables is very high** ---> indicates that we have no evidence to suggest an effect on the response variable (except for `Distance` characteristic of POI)---> In other words, most of input variables (characteristics of POI) do not have a significant effect on the dependent variable 'Number_Of_Bikes'. **In this case, it may be useful to focus on `Venue_Distance`**, which has a p-value < 0.05, and **`Venue_Rating` and `Longitude_Station`**, even though their p-values are not statistically significant, **their impact may still be significant.**\n",
    "2. The **F-statistic** is **1.750** and **Prob (F-statistic)** the corresponding p-value is **0.0571**  suggesting that this model may not be statistically significant (A p-value below 0.05 is generally considered statistically significant).\n",
    "3. The **Adj. R-squared is extremely low**: In this output, we can see that the value is **0.002** meaning that this model is capable of explaining 0.2% of the patterns in the data ---> this model explains only a very small portion of the variation in the dependent variable.---> proves that this model, as constructed for my particular data set, is a **extremely poor model**.\n",
    "\n",
    "**In summary**, based on the model results, it appears that the current model (11 independent variables) is **not strong enough to demonstrate a relationship between the number of bikes in a particular location and the characteristics of the POIs in that location**. In other words, this model is not strong enough to predict the number of bikes at bike stations. **Further research** and analysis **are needed** to identify important factors and improve the model.\n",
    "\n",
    "\n",
    "===> I am going to revisit the EDA process and try to buil models with different combinations of independent variables."
   ]
  },
  {
   "cell_type": "code",
   "execution_count": null,
   "metadata": {},
   "outputs": [],
   "source": []
  },
  {
   "cell_type": "code",
   "execution_count": null,
   "metadata": {},
   "outputs": [],
   "source": []
  },
  {
   "cell_type": "markdown",
   "metadata": {},
   "source": [
    "### 2) Build a Simple Linear Regression with 1 independent variable 'Longitude'"
   ]
  },
  {
   "cell_type": "code",
   "execution_count": 14,
   "metadata": {},
   "outputs": [
    {
     "name": "stdout",
     "output_type": "stream",
     "text": [
      "(5152, 1)\n",
      "                            OLS Regression Results                            \n",
      "==============================================================================\n",
      "Dep. Variable:        Number_Of_Bikes   R-squared:                       0.002\n",
      "Model:                            OLS   Adj. R-squared:                  0.002\n",
      "Method:                 Least Squares   F-statistic:                     8.759\n",
      "Date:                Thu, 11 Apr 2024   Prob (F-statistic):            0.00309\n",
      "Time:                        16:07:29   Log-Likelihood:                -16047.\n",
      "No. Observations:                5152   AIC:                         3.210e+04\n",
      "Df Residuals:                    5150   BIC:                         3.211e+04\n",
      "Df Model:                           1                                         \n",
      "Covariance Type:            nonrobust                                         \n",
      "=====================================================================================\n",
      "                        coef    std err          t      P>|t|      [0.025      0.975]\n",
      "-------------------------------------------------------------------------------------\n",
      "const               949.4412    316.596      2.999      0.003     328.779    1570.103\n",
      "Longitude_Station    12.6654      4.279      2.960      0.003       4.276      21.055\n",
      "==============================================================================\n",
      "Omnibus:                     1104.413   Durbin-Watson:                   0.018\n",
      "Prob(Omnibus):                  0.000   Jarque-Bera (JB):             3006.465\n",
      "Skew:                           1.139   Prob(JB):                         0.00\n",
      "Kurtosis:                       5.970   Cond. No.                     3.08e+05\n",
      "==============================================================================\n",
      "\n",
      "Notes:\n",
      "[1] Standard Errors assume that the covariance matrix of the errors is correctly specified.\n",
      "[2] The condition number is large, 3.08e+05. This might indicate that there are\n",
      "strong multicollinearity or other numerical problems.\n"
     ]
    }
   ],
   "source": [
    "X = df[['Longitude_Station']]  # Define target variable and independent variables\n",
    "y = df['Number_Of_Bikes']\n",
    "print(X.shape)\n",
    "\n",
    "X1 = sm.add_constant(X) # adding a constant\n",
    "model = sm.OLS(y,X1)    # Create model\n",
    "result = model.fit()\n",
    "print(result.summary())       # See model result"
   ]
  },
  {
   "cell_type": "code",
   "execution_count": null,
   "metadata": {},
   "outputs": [],
   "source": []
  },
  {
   "cell_type": "markdown",
   "metadata": {},
   "source": [
    "### 3) Build a Multivariate Linear Regression with 2 independent variables 'Longitude' and 'Distance'"
   ]
  },
  {
   "cell_type": "code",
   "execution_count": 15,
   "metadata": {},
   "outputs": [
    {
     "name": "stdout",
     "output_type": "stream",
     "text": [
      "(5152, 2)\n",
      "                            OLS Regression Results                            \n",
      "==============================================================================\n",
      "Dep. Variable:        Number_Of_Bikes   R-squared:                       0.003\n",
      "Model:                            OLS   Adj. R-squared:                  0.002\n",
      "Method:                 Least Squares   F-statistic:                     6.701\n",
      "Date:                Thu, 11 Apr 2024   Prob (F-statistic):            0.00124\n",
      "Time:                        16:07:29   Log-Likelihood:                -16045.\n",
      "No. Observations:                5152   AIC:                         3.210e+04\n",
      "Df Residuals:                    5149   BIC:                         3.212e+04\n",
      "Df Model:                           2                                         \n",
      "Covariance Type:            nonrobust                                         \n",
      "=====================================================================================\n",
      "                        coef    std err          t      P>|t|      [0.025      0.975]\n",
      "-------------------------------------------------------------------------------------\n",
      "const               925.8624    316.673      2.924      0.003     305.048    1546.677\n",
      "Longitude_Station    12.3519      4.280      2.886      0.004       3.961      20.743\n",
      "Venue_Distance        0.0006      0.000      2.153      0.031    4.94e-05       0.001\n",
      "==============================================================================\n",
      "Omnibus:                     1093.640   Durbin-Watson:                   0.020\n",
      "Prob(Omnibus):                  0.000   Jarque-Bera (JB):             2971.021\n",
      "Skew:                           1.129   Prob(JB):                         0.00\n",
      "Kurtosis:                       5.957   Cond. No.                     3.18e+06\n",
      "==============================================================================\n",
      "\n",
      "Notes:\n",
      "[1] Standard Errors assume that the covariance matrix of the errors is correctly specified.\n",
      "[2] The condition number is large, 3.18e+06. This might indicate that there are\n",
      "strong multicollinearity or other numerical problems.\n"
     ]
    }
   ],
   "source": [
    "X = df[['Longitude_Station','Venue_Distance']]  # Define target variable and independent variables\n",
    "y = df['Number_Of_Bikes']\n",
    "print(X.shape)\n",
    "\n",
    "X1 = sm.add_constant(X) # adding a constant\n",
    "model = sm.OLS(y,X1)    # Create model\n",
    "result = model.fit()\n",
    "print(result.summary())       # See model result"
   ]
  },
  {
   "cell_type": "code",
   "execution_count": null,
   "metadata": {},
   "outputs": [],
   "source": []
  },
  {
   "cell_type": "markdown",
   "metadata": {},
   "source": [
    "### 4) Build a Multivariate Linear Regression with 3 independent variables 'Longitude', 'Distance', and 'Rating'"
   ]
  },
  {
   "cell_type": "code",
   "execution_count": 16,
   "metadata": {},
   "outputs": [
    {
     "name": "stdout",
     "output_type": "stream",
     "text": [
      "(5152, 3)\n",
      "                            OLS Regression Results                            \n",
      "==============================================================================\n",
      "Dep. Variable:        Number_Of_Bikes   R-squared:                       0.003\n",
      "Model:                            OLS   Adj. R-squared:                  0.003\n",
      "Method:                 Least Squares   F-statistic:                     5.354\n",
      "Date:                Thu, 11 Apr 2024   Prob (F-statistic):            0.00111\n",
      "Time:                        16:07:29   Log-Likelihood:                -16044.\n",
      "No. Observations:                5152   AIC:                         3.210e+04\n",
      "Df Residuals:                    5148   BIC:                         3.212e+04\n",
      "Df Model:                           3                                         \n",
      "Covariance Type:            nonrobust                                         \n",
      "=====================================================================================\n",
      "                        coef    std err          t      P>|t|      [0.025      0.975]\n",
      "-------------------------------------------------------------------------------------\n",
      "const               940.0385    316.742      2.968      0.003     319.090    1560.987\n",
      "Longitude_Station    12.5309      4.281      2.927      0.003       4.138      20.924\n",
      "Venue_Distance        0.0005      0.000      2.093      0.036    3.41e-05       0.001\n",
      "Venue_Rating         -0.2183      0.134     -1.630      0.103      -0.481       0.044\n",
      "==============================================================================\n",
      "Omnibus:                     1099.979   Durbin-Watson:                   0.020\n",
      "Prob(Omnibus):                  0.000   Jarque-Bera (JB):             3005.401\n",
      "Skew:                           1.133   Prob(JB):                         0.00\n",
      "Kurtosis:                       5.978   Cond. No.                     3.18e+06\n",
      "==============================================================================\n",
      "\n",
      "Notes:\n",
      "[1] Standard Errors assume that the covariance matrix of the errors is correctly specified.\n",
      "[2] The condition number is large, 3.18e+06. This might indicate that there are\n",
      "strong multicollinearity or other numerical problems.\n"
     ]
    }
   ],
   "source": [
    "X = df[['Longitude_Station','Venue_Distance','Venue_Rating']]  # Define target variable and independent variables\n",
    "y = df['Number_Of_Bikes']\n",
    "print(X.shape)\n",
    "\n",
    "X1 = sm.add_constant(X) # adding a constant\n",
    "model = sm.OLS(y,X1)    # Create model\n",
    "result = model.fit()\n",
    "print(result.summary())       # See model result"
   ]
  },
  {
   "cell_type": "code",
   "execution_count": null,
   "metadata": {},
   "outputs": [],
   "source": []
  },
  {
   "cell_type": "markdown",
   "metadata": {},
   "source": [
    "## Interpret of the results of model 2), 3), 4): \n",
    "COMPARED 3 above model results each others and WITH the first one, we can see model number 3 (model with 2 independent variables 'Longitude' and 'Distance') is the best.\n",
    "\n",
    "* The Adj. R-squared increases but not too much and it is still low (0.003).\n",
    "* The F-statistic this time increases from 1.750 to **6.925** and the corresponding p-value decreases from 0.0571 to **0.000994**\n",
    "\n",
    "  ---> indicating that **the model as a whole this time with 2 independent variables is statistically significant** (This means that the model provides valuable information about the relationship between the independent variables and the dependent variable, and that this relationship is unlikely to be due to random chance.)  ----> BETTER compared to the model number 1.\n",
    "* Moreover, the p-value for 2 these variables < 0.05 ---> these independent varibales have a significant effect on the dependent variable 'Number_Of_Bikes'.\n",
    "\n",
    "  ---> This implies that the geographical location of POIs and the distance from bike stations may have a strong relationship with the demand for bike usage at each location. For example, bike stations near important points such as restaurants, convenience stores, or entertainment areas may attract more users.  This makes longitude and distance key factors in building a model to predict the number of bikes at bike stations.\n",
    "\n",
    "**In summary**, based on the results of model 3 (model with 2 independent variables 'Longitude' and 'Distance'), it appears that overall model appears to be statistically significant. Specifically, **Longitude and Distance characteristic of nearby POIs appears to be the most important predictor of the number of bikes at bike stations**. However, the model doesn't well fits the data. This model is capable of explaining 0.3% of the patterns in the data. This model explains only a very small portion of the variation in the dependent variable."
   ]
  },
  {
   "cell_type": "code",
   "execution_count": null,
   "metadata": {},
   "outputs": [],
   "source": []
  },
  {
   "cell_type": "markdown",
   "metadata": {},
   "source": [
    "### 5) Try Poly Linear Regression models"
   ]
  },
  {
   "cell_type": "code",
   "execution_count": 17,
   "metadata": {},
   "outputs": [
    {
     "name": "stdout",
     "output_type": "stream",
     "text": [
      "                            OLS Regression Results                            \n",
      "==============================================================================\n",
      "Dep. Variable:        Number_Of_Bikes   R-squared:                       0.011\n",
      "Model:                            OLS   Adj. R-squared:                  0.010\n",
      "Method:                 Least Squares   F-statistic:                     11.31\n",
      "Date:                Thu, 11 Apr 2024   Prob (F-statistic):           7.11e-11\n",
      "Time:                        16:07:29   Log-Likelihood:                -16023.\n",
      "No. Observations:                5152   AIC:                         3.206e+04\n",
      "Df Residuals:                    5146   BIC:                         3.210e+04\n",
      "Df Model:                           5                                         \n",
      "Covariance Type:            nonrobust                                         \n",
      "==============================================================================\n",
      "                 coef    std err          t      P>|t|      [0.025      0.975]\n",
      "------------------------------------------------------------------------------\n",
      "const       -6.01e+06   1.08e+06     -5.574      0.000   -8.12e+06    -3.9e+06\n",
      "x1         -1.625e+05   2.91e+04     -5.576      0.000    -2.2e+05   -1.05e+05\n",
      "x2            -2.9886      1.086     -2.751      0.006      -5.118      -0.859\n",
      "x3         -1098.7527    197.007     -5.577      0.000   -1484.970    -712.535\n",
      "x4            -0.0404      0.015     -2.753      0.006      -0.069      -0.012\n",
      "x5         -5.191e-07   6.91e-07     -0.751      0.453   -1.87e-06    8.36e-07\n",
      "==============================================================================\n",
      "Omnibus:                     1021.960   Durbin-Watson:                   0.022\n",
      "Prob(Omnibus):                  0.000   Jarque-Bera (JB):             2705.475\n",
      "Skew:                           1.067   Prob(JB):                         0.00\n",
      "Kurtosis:                       5.837   Cond. No.                     1.03e+13\n",
      "==============================================================================\n",
      "\n",
      "Notes:\n",
      "[1] Standard Errors assume that the covariance matrix of the errors is correctly specified.\n",
      "[2] The smallest eigenvalue is 2.53e-11. This might indicate that there are\n",
      "strong multicollinearity problems or that the design matrix is singular.\n"
     ]
    }
   ],
   "source": [
    "from sklearn.preprocessing import PolynomialFeatures\n",
    "\n",
    "# With 2 independent variables\n",
    "X = df[['Longitude_Station','Venue_Distance']]\n",
    "y = df['Number_Of_Bikes']\n",
    "\n",
    "degree = 2\n",
    "poly = PolynomialFeatures(degree)\n",
    "X_poly = poly.fit_transform(X)\n",
    "X_poly = sm.add_constant(X_poly)\n",
    "\n",
    "model_poly = sm.OLS(y, X_poly)\n",
    "result_poly = model_poly.fit()\n",
    "\n",
    "print(result_poly.summary())"
   ]
  },
  {
   "cell_type": "code",
   "execution_count": 18,
   "metadata": {},
   "outputs": [
    {
     "name": "stdout",
     "output_type": "stream",
     "text": [
      "                            OLS Regression Results                            \n",
      "==============================================================================\n",
      "Dep. Variable:        Number_Of_Bikes   R-squared:                       0.008\n",
      "Model:                            OLS   Adj. R-squared:                  0.008\n",
      "Method:                 Least Squares   F-statistic:                     21.38\n",
      "Date:                Thu, 11 Apr 2024   Prob (F-statistic):           5.66e-10\n",
      "Time:                        16:07:29   Log-Likelihood:                -16030.\n",
      "No. Observations:                5152   AIC:                         3.207e+04\n",
      "Df Residuals:                    5149   BIC:                         3.209e+04\n",
      "Df Model:                           2                                         \n",
      "Covariance Type:            nonrobust                                         \n",
      "==============================================================================\n",
      "                 coef    std err          t      P>|t|      [0.025      0.975]\n",
      "------------------------------------------------------------------------------\n",
      "const      -6.249e+06   1.07e+06     -5.825      0.000   -8.35e+06   -4.15e+06\n",
      "x1          -1.69e+05    2.9e+04     -5.826      0.000   -2.26e+05   -1.12e+05\n",
      "x2         -1142.0212    196.010     -5.826      0.000   -1526.284    -757.758\n",
      "==============================================================================\n",
      "Omnibus:                     1038.563   Durbin-Watson:                   0.018\n",
      "Prob(Omnibus):                  0.000   Jarque-Bera (JB):             2740.314\n",
      "Skew:                           1.085   Prob(JB):                         0.00\n",
      "Kurtosis:                       5.839   Cond. No.                     7.76e+10\n",
      "==============================================================================\n",
      "\n",
      "Notes:\n",
      "[1] Standard Errors assume that the covariance matrix of the errors is correctly specified.\n",
      "[2] The smallest eigenvalue is 2.56e-11. This might indicate that there are\n",
      "strong multicollinearity problems or that the design matrix is singular.\n"
     ]
    }
   ],
   "source": [
    "# With 1 independent variable\n",
    "X = df[['Longitude_Station']]\n",
    "y = df['Number_Of_Bikes']\n",
    "\n",
    "degree = 2\n",
    "poly = PolynomialFeatures(degree)\n",
    "X_poly = poly.fit_transform(X)\n",
    "X_poly = sm.add_constant(X_poly)\n",
    "\n",
    "model_poly = sm.OLS(y, X_poly)\n",
    "result_poly = model_poly.fit()\n",
    "\n",
    "print(result_poly.summary())"
   ]
  },
  {
   "cell_type": "markdown",
   "metadata": {},
   "source": [
    "### Comment:  The results are not better."
   ]
  },
  {
   "cell_type": "markdown",
   "metadata": {},
   "source": [
    "#\n",
    "### Try to remove more outliers"
   ]
  },
  {
   "cell_type": "code",
   "execution_count": 19,
   "metadata": {},
   "outputs": [
    {
     "data": {
      "image/png": "[encoded data removed]",
      "text/plain": [
       "<Figure size 1200x400 with 1 Axes>"
      ]
     },
     "metadata": {},
     "output_type": "display_data"
    }
   ],
   "source": [
    "plt.figure(figsize=(12,4))\n",
    "sns.boxplot(data=df)\n",
    "plt.xticks(rotation=45)\n",
    "plt.show()"
   ]
  },
  {
   "cell_type": "code",
   "execution_count": 20,
   "metadata": {},
   "outputs": [],
   "source": [
    "def remove_outliers(df, column_name, lower_percentile=0.25, upper_percentile=0.75, threshold=1.5):\n",
    "    Q1 = df[column_name].quantile(lower_percentile)\n",
    "    Q3 = df[column_name].quantile(upper_percentile)\n",
    "    IQR = Q3 - Q1\n",
    "    lower_bound = Q1 - threshold * IQR\n",
    "    upper_bound = Q3 + threshold * IQR\n",
    "    return df[(df[column_name] >= lower_bound) & (df[column_name] <= upper_bound)] "
   ]
  },
  {
   "cell_type": "code",
   "execution_count": 21,
   "metadata": {},
   "outputs": [
    {
     "name": "stdout",
     "output_type": "stream",
     "text": [
      "Shape of dataframe df before removing outliers: (5152, 12)\n",
      "Shape of dataframe df before removing outliers: (4654, 12)\n"
     ]
    }
   ],
   "source": [
    "# Implement removing outliers  for 'Venue_Distance', 'Venue_Review_Count' columns\n",
    "\n",
    "print(\"Shape of dataframe df before removing outliers:\", df.shape)\n",
    "\n",
    "for col in ['Venue_Distance','Venue_Review_Count']:   \n",
    "    df = remove_outliers(df, col)\n",
    "df  = df.reset_index(drop=True)  \n",
    "\n",
    "print(\"Shape of dataframe df before removing outliers:\", df.shape)"
   ]
  },
  {
   "cell_type": "code",
   "execution_count": 22,
   "metadata": {},
   "outputs": [
    {
     "data": {
      "image/png": "[encoded data removed]",
      "text/plain": [
       "<Figure size 400x400 with 1 Axes>"
      ]
     },
     "metadata": {},
     "output_type": "display_data"
    }
   ],
   "source": [
    "# Draw a graph to see outliers again\n",
    "plt.figure(figsize=(4,4))\n",
    "sns.boxplot(data=df[['Venue_Distance', 'Venue_Review_Count']])\n",
    "plt.show()"
   ]
  },
  {
   "cell_type": "code",
   "execution_count": null,
   "metadata": {},
   "outputs": [],
   "source": []
  },
  {
   "cell_type": "markdown",
   "metadata": {},
   "source": [
    "### 6) Build a Linear Regression after REMOVING MORE OUTLIERS"
   ]
  },
  {
   "cell_type": "code",
   "execution_count": 23,
   "metadata": {},
   "outputs": [
    {
     "name": "stdout",
     "output_type": "stream",
     "text": [
      "(4654, 1)\n",
      "                            OLS Regression Results                            \n",
      "==============================================================================\n",
      "Dep. Variable:        Number_Of_Bikes   R-squared:                       0.002\n",
      "Model:                            OLS   Adj. R-squared:                  0.002\n",
      "Method:                 Least Squares   F-statistic:                     8.326\n",
      "Date:                Thu, 11 Apr 2024   Prob (F-statistic):            0.00393\n",
      "Time:                        16:07:29   Log-Likelihood:                -14486.\n",
      "No. Observations:                4654   AIC:                         2.898e+04\n",
      "Df Residuals:                    4652   BIC:                         2.899e+04\n",
      "Df Model:                           1                                         \n",
      "Covariance Type:            nonrobust                                         \n",
      "=====================================================================================\n",
      "                        coef    std err          t      P>|t|      [0.025      0.975]\n",
      "-------------------------------------------------------------------------------------\n",
      "const               961.1658    328.805      2.923      0.003     316.552    1605.780\n",
      "Longitude_Station    12.8242      4.444      2.885      0.004       4.111      21.537\n",
      "==============================================================================\n",
      "Omnibus:                     1005.381   Durbin-Watson:                   0.020\n",
      "Prob(Omnibus):                  0.000   Jarque-Bera (JB):             2763.646\n",
      "Skew:                           1.142   Prob(JB):                         0.00\n",
      "Kurtosis:                       6.005   Cond. No.                     3.05e+05\n",
      "==============================================================================\n",
      "\n",
      "Notes:\n",
      "[1] Standard Errors assume that the covariance matrix of the errors is correctly specified.\n",
      "[2] The condition number is large, 3.05e+05. This might indicate that there are\n",
      "strong multicollinearity or other numerical problems.\n"
     ]
    }
   ],
   "source": [
    "# With 1 independent variable\n",
    "X = df[['Longitude_Station']]  \n",
    "y = df['Number_Of_Bikes']\n",
    "print(X.shape)\n",
    "\n",
    "X1 = sm.add_constant(X) # adding a constant\n",
    "model = sm.OLS(y,X1)    # Create model\n",
    "result = model.fit()\n",
    "print(result.summary())       # See model result"
   ]
  },
  {
   "cell_type": "code",
   "execution_count": 24,
   "metadata": {},
   "outputs": [
    {
     "name": "stdout",
     "output_type": "stream",
     "text": [
      "(4654, 2)\n",
      "                            OLS Regression Results                            \n",
      "==============================================================================\n",
      "Dep. Variable:        Number_Of_Bikes   R-squared:                       0.003\n",
      "Model:                            OLS   Adj. R-squared:                  0.002\n",
      "Method:                 Least Squares   F-statistic:                     6.046\n",
      "Date:                Thu, 11 Apr 2024   Prob (F-statistic):            0.00239\n",
      "Time:                        16:07:29   Log-Likelihood:                -14484.\n",
      "No. Observations:                4654   AIC:                         2.897e+04\n",
      "Df Residuals:                    4651   BIC:                         2.899e+04\n",
      "Df Model:                           2                                         \n",
      "Covariance Type:            nonrobust                                         \n",
      "=====================================================================================\n",
      "                        coef    std err          t      P>|t|      [0.025      0.975]\n",
      "-------------------------------------------------------------------------------------\n",
      "const               943.0739    328.840      2.868      0.004     298.391    1587.756\n",
      "Longitude_Station    12.5846      4.445      2.831      0.005       3.871      21.299\n",
      "Venue_Distance        0.0005      0.000      1.940      0.052   -5.69e-06       0.001\n",
      "==============================================================================\n",
      "Omnibus:                      995.545   Durbin-Watson:                   0.021\n",
      "Prob(Omnibus):                  0.000   Jarque-Bera (JB):             2728.362\n",
      "Skew:                           1.133   Prob(JB):                         0.00\n",
      "Kurtosis:                       5.990   Cond. No.                     3.14e+06\n",
      "==============================================================================\n",
      "\n",
      "Notes:\n",
      "[1] Standard Errors assume that the covariance matrix of the errors is correctly specified.\n",
      "[2] The condition number is large, 3.14e+06. This might indicate that there are\n",
      "strong multicollinearity or other numerical problems.\n"
     ]
    }
   ],
   "source": [
    "# With 2 independent variables\n",
    "X = df[['Longitude_Station','Venue_Distance']]\n",
    "y = df['Number_Of_Bikes']\n",
    "print(X.shape)\n",
    "\n",
    "X1 = sm.add_constant(X) # adding a constant\n",
    "model = sm.OLS(y,X1)    # Create model\n",
    "result = model.fit()\n",
    "print(result.summary())       # See model result"
   ]
  },
  {
   "cell_type": "code",
   "execution_count": 25,
   "metadata": {},
   "outputs": [
    {
     "name": "stdout",
     "output_type": "stream",
     "text": [
      "(4654, 3)\n",
      "                            OLS Regression Results                            \n",
      "==============================================================================\n",
      "Dep. Variable:        Number_Of_Bikes   R-squared:                       0.003\n",
      "Model:                            OLS   Adj. R-squared:                  0.002\n",
      "Method:                 Least Squares   F-statistic:                     4.644\n",
      "Date:                Thu, 11 Apr 2024   Prob (F-statistic):            0.00303\n",
      "Time:                        16:07:29   Log-Likelihood:                -14483.\n",
      "No. Observations:                4654   AIC:                         2.897e+04\n",
      "Df Residuals:                    4650   BIC:                         2.900e+04\n",
      "Df Model:                           3                                         \n",
      "Covariance Type:            nonrobust                                         \n",
      "=====================================================================================\n",
      "                        coef    std err          t      P>|t|      [0.025      0.975]\n",
      "-------------------------------------------------------------------------------------\n",
      "const               953.1201    328.894      2.898      0.004     308.332    1597.908\n",
      "Longitude_Station    12.7095      4.445      2.859      0.004       3.994      21.425\n",
      "Venue_Distance        0.0005      0.000      1.876      0.061   -2.29e-05       0.001\n",
      "Venue_Rating         -0.1886      0.139     -1.355      0.175      -0.461       0.084\n",
      "==============================================================================\n",
      "Omnibus:                     1001.146   Durbin-Watson:                   0.022\n",
      "Prob(Omnibus):                  0.000   Jarque-Bera (JB):             2757.984\n",
      "Skew:                           1.137   Prob(JB):                         0.00\n",
      "Kurtosis:                       6.009   Cond. No.                     3.14e+06\n",
      "==============================================================================\n",
      "\n",
      "Notes:\n",
      "[1] Standard Errors assume that the covariance matrix of the errors is correctly specified.\n",
      "[2] The condition number is large, 3.14e+06. This might indicate that there are\n",
      "strong multicollinearity or other numerical problems.\n"
     ]
    }
   ],
   "source": [
    "# With 3 independent variables\n",
    "X = df[['Longitude_Station','Venue_Distance','Venue_Rating']]\n",
    "y = df['Number_Of_Bikes']\n",
    "print(X.shape)\n",
    "\n",
    "X1 = sm.add_constant(X) # adding a constant\n",
    "model = sm.OLS(y,X1)    # Create model\n",
    "result = model.fit()\n",
    "print(result.summary())       # See model result"
   ]
  },
  {
   "cell_type": "markdown",
   "metadata": {},
   "source": [
    "### Comment:  Even after removing more outliers, the results are not better."
   ]
  },
  {
   "cell_type": "code",
   "execution_count": null,
   "metadata": {},
   "outputs": [],
   "source": []
  },
  {
   "cell_type": "markdown",
   "metadata": {},
   "source": [
    "### The relationship between variables is not strongly linear as we have assumed in the regression model and the **target varibale 'Number_Of_Bikes' is not a continuous data**, so Regression Model is not appropriate.\n",
    "We can try with classification model then."
   ]
  },
  {
   "cell_type": "code",
   "execution_count": null,
   "metadata": {},
   "outputs": [],
   "source": []
  },
  {
   "cell_type": "markdown",
   "metadata": {},
   "source": [
    "# Stretch"
   ]
  },
  {
   "cell_type": "markdown",
   "metadata": {},
   "source": [
    "### How can you turn the regression model into a classification model?"
   ]
  },
  {
   "cell_type": "markdown",
   "metadata": {},
   "source": [
    "In order to turn the regression model into a classification model, we can define classes or categories for the number of bikes (likely divide it into bins). For example, we could define categories like **\"low bike capability\", \"medium bike capability\"**, and **\"high bike capability\"** based on certain thresholds of the number of bikes. Then, **our target variable turns into categorical type, so we can apply a classification model**.\n",
    "\n",
    "The threshold which defines each class could be based on domain knowledge or statistical analysis of the distribution of the number of bikes.\n",
    "For example:\n",
    "- low bike capability   : < 8\n",
    "- medium bike capability: 8 - 16\n",
    "- high bike capability  : > 16\n",
    "- \n",
    "OR even we can treat a value as a class  ---> then we have 13 classes."
   ]
  },
  {
   "cell_type": "markdown",
   "metadata": {},
   "source": [
    "We will do the steps similar to a regression model, include:\n",
    "- Bivariate analysis with target variable as a new type, categorical type.\n",
    "- Feature selection\n",
    "- Encode categorical variables\n",
    "- Model selection\n",
    "- Model applying\n",
    "- Model evaluation\n",
    "- Iterating to find the best model."
   ]
  },
  {
   "cell_type": "code",
   "execution_count": 26,
   "metadata": {},
   "outputs": [
    {
     "name": "stdout",
     "output_type": "stream",
     "text": [
      "Values of 'Number_Of_Bikes':\n"
     ]
    },
    {
     "data": {
      "text/plain": [
       "array([ 2,  8,  9, 10, 11, 12, 13, 14, 15, 16, 20, 21, 32], dtype=int64)"
      ]
     },
     "execution_count": 26,
     "metadata": {},
     "output_type": "execute_result"
    }
   ],
   "source": [
    "print(\"Values of 'Number_Of_Bikes':\")\n",
    "np.sort(df['Number_Of_Bikes'].unique())"
   ]
  },
  {
   "cell_type": "code",
   "execution_count": 27,
   "metadata": {},
   "outputs": [
    {
     "name": "stdout",
     "output_type": "stream",
     "text": [
      "Number of values of 'Number_Of_Bikes':\n"
     ]
    },
    {
     "data": {
      "text/plain": [
       "13"
      ]
     },
     "execution_count": 27,
     "metadata": {},
     "output_type": "execute_result"
    }
   ],
   "source": [
    "print(\"Number of values of 'Number_Of_Bikes':\")\n",
    "df['Number_Of_Bikes'].nunique()"
   ]
  },
  {
   "cell_type": "code",
   "execution_count": 28,
   "metadata": {},
   "outputs": [
    {
     "data": {
      "image/png": "[encoded data removed]",
      "text/plain": [
       "<Figure size 600x300 with 1 Axes>"
      ]
     },
     "metadata": {},
     "output_type": "display_data"
    }
   ],
   "source": [
    "# Draw histogram\n",
    "plt.figure(figsize=(6,3))\n",
    "plt.hist(df[['Number_Of_Bikes']], bins=10, color='skyblue', edgecolor='black')\n",
    "plt.xlabel('Values')\n",
    "plt.ylabel('Frequency')\n",
    "plt.title('Histogram of Variable')\n",
    "plt.show()"
   ]
  },
  {
   "cell_type": "code",
   "execution_count": null,
   "metadata": {},
   "outputs": [],
   "source": []
  }
 ],
 "metadata": {
  "kernelspec": {
   "display_name": "Python 3 (ipykernel)",
   "language": "python",
   "name": "python3"
  },
  "language_info": {
   "codemirror_mode": {
    "name": "ipython",
    "version": 3
   },
   "file_extension": ".py",
   "mimetype": "text/x-python",
   "name": "python",
   "nbconvert_exporter": "python",
   "pygments_lexer": "ipython3",
   "version": "3.11.8"
  }
 },
 "nbformat": 4,
 "nbformat_minor": 4
}
